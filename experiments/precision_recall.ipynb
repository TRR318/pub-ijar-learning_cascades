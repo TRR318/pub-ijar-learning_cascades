{
 "cells": [
  {
   "cell_type": "code",
   "execution_count": 1,
   "metadata": {},
   "outputs": [
    {
     "name": "stdout",
     "output_type": "stream",
     "text": [
      "[-3, -2, -1, 1, 2, 3]\n"
     ]
    },
    {
     "data": {
      "text/html": [
       "<style>#sk-container-id-1 {color: black;}#sk-container-id-1 pre{padding: 0;}#sk-container-id-1 div.sk-toggleable {background-color: white;}#sk-container-id-1 label.sk-toggleable__label {cursor: pointer;display: block;width: 100%;margin-bottom: 0;padding: 0.3em;box-sizing: border-box;text-align: center;}#sk-container-id-1 label.sk-toggleable__label-arrow:before {content: \"▸\";float: left;margin-right: 0.25em;color: #696969;}#sk-container-id-1 label.sk-toggleable__label-arrow:hover:before {color: black;}#sk-container-id-1 div.sk-estimator:hover label.sk-toggleable__label-arrow:before {color: black;}#sk-container-id-1 div.sk-toggleable__content {max-height: 0;max-width: 0;overflow: hidden;text-align: left;background-color: #f0f8ff;}#sk-container-id-1 div.sk-toggleable__content pre {margin: 0.2em;color: black;border-radius: 0.25em;background-color: #f0f8ff;}#sk-container-id-1 input.sk-toggleable__control:checked~div.sk-toggleable__content {max-height: 200px;max-width: 100%;overflow: auto;}#sk-container-id-1 input.sk-toggleable__control:checked~label.sk-toggleable__label-arrow:before {content: \"▾\";}#sk-container-id-1 div.sk-estimator input.sk-toggleable__control:checked~label.sk-toggleable__label {background-color: #d4ebff;}#sk-container-id-1 div.sk-label input.sk-toggleable__control:checked~label.sk-toggleable__label {background-color: #d4ebff;}#sk-container-id-1 input.sk-hidden--visually {border: 0;clip: rect(1px 1px 1px 1px);clip: rect(1px, 1px, 1px, 1px);height: 1px;margin: -1px;overflow: hidden;padding: 0;position: absolute;width: 1px;}#sk-container-id-1 div.sk-estimator {font-family: monospace;background-color: #f0f8ff;border: 1px dotted black;border-radius: 0.25em;box-sizing: border-box;margin-bottom: 0.5em;}#sk-container-id-1 div.sk-estimator:hover {background-color: #d4ebff;}#sk-container-id-1 div.sk-parallel-item::after {content: \"\";width: 100%;border-bottom: 1px solid gray;flex-grow: 1;}#sk-container-id-1 div.sk-label:hover label.sk-toggleable__label {background-color: #d4ebff;}#sk-container-id-1 div.sk-serial::before {content: \"\";position: absolute;border-left: 1px solid gray;box-sizing: border-box;top: 0;bottom: 0;left: 50%;z-index: 0;}#sk-container-id-1 div.sk-serial {display: flex;flex-direction: column;align-items: center;background-color: white;padding-right: 0.2em;padding-left: 0.2em;position: relative;}#sk-container-id-1 div.sk-item {position: relative;z-index: 1;}#sk-container-id-1 div.sk-parallel {display: flex;align-items: stretch;justify-content: center;background-color: white;position: relative;}#sk-container-id-1 div.sk-item::before, #sk-container-id-1 div.sk-parallel-item::before {content: \"\";position: absolute;border-left: 1px solid gray;box-sizing: border-box;top: 0;bottom: 0;left: 50%;z-index: -1;}#sk-container-id-1 div.sk-parallel-item {display: flex;flex-direction: column;z-index: 1;position: relative;background-color: white;}#sk-container-id-1 div.sk-parallel-item:first-child::after {align-self: flex-end;width: 50%;}#sk-container-id-1 div.sk-parallel-item:last-child::after {align-self: flex-start;width: 50%;}#sk-container-id-1 div.sk-parallel-item:only-child::after {width: 0;}#sk-container-id-1 div.sk-dashed-wrapped {border: 1px dashed gray;margin: 0 0.4em 0.5em 0.4em;box-sizing: border-box;padding-bottom: 0.4em;background-color: white;}#sk-container-id-1 div.sk-label label {font-family: monospace;font-weight: bold;display: inline-block;line-height: 1.2em;}#sk-container-id-1 div.sk-label-container {text-align: center;}#sk-container-id-1 div.sk-container {/* jupyter's `normalize.less` sets `[hidden] { display: none; }` but bootstrap.min.css set `[hidden] { display: none !important; }` so we also need the `!important` here to be able to override the default hidden behavior on the sphinx rendered scikit-learn.org. See: https://github.com/scikit-learn/scikit-learn/issues/21755 */display: inline-block !important;position: relative;}#sk-container-id-1 div.sk-text-repr-fallback {display: none;}</style><div id=\"sk-container-id-1\" class=\"sk-top-container\"><div class=\"sk-text-repr-fallback\"><pre>ProbabilisticScoringList(lookahead=2, score_set=[-3, -2, -1, 1, 2, 3],\n",
       "                         stage_clf_params={&#x27;calibration_method&#x27;: &#x27;isotonic&#x27;},\n",
       "                         stage_loss=&lt;function &lt;lambda&gt; at 0x7fee101f9e40&gt;)</pre><b>In a Jupyter environment, please rerun this cell to show the HTML representation or trust the notebook. <br />On GitHub, the HTML representation is unable to render, please try loading this page with nbviewer.org.</b></div><div class=\"sk-container\" hidden><div class=\"sk-item\"><div class=\"sk-estimator sk-toggleable\"><input class=\"sk-toggleable__control sk-hidden--visually\" id=\"sk-estimator-id-1\" type=\"checkbox\" checked><label for=\"sk-estimator-id-1\" class=\"sk-toggleable__label sk-toggleable__label-arrow\">ProbabilisticScoringList</label><div class=\"sk-toggleable__content\"><pre>ProbabilisticScoringList(lookahead=2, score_set=[-3, -2, -1, 1, 2, 3],\n",
       "                         stage_clf_params={&#x27;calibration_method&#x27;: &#x27;isotonic&#x27;},\n",
       "                         stage_loss=&lt;function &lt;lambda&gt; at 0x7fee101f9e40&gt;)</pre></div></div></div></div></div>"
      ],
      "text/plain": [
       "ProbabilisticScoringList(lookahead=2, score_set=[-3, -2, -1, 1, 2, 3],\n",
       "                         stage_clf_params={'calibration_method': 'isotonic'},\n",
       "                         stage_loss=<function <lambda> at 0x7fee101f9e40>)"
      ]
     },
     "execution_count": 1,
     "metadata": {},
     "output_type": "execute_result"
    }
   ],
   "source": [
    "import numpy as np\n",
    "import pandas as pd\n",
    "from sklearn.metrics import balanced_accuracy_score, accuracy_score\n",
    "from sklearn.model_selection import ShuffleSplit\n",
    "from skpsl import ProbabilisticScoringList\n",
    "from skpsl.metrics import precision_at_recall_k_score\n",
    "from tqdm import tqdm\n",
    "\n",
    "from experiment_utils import evaluate_metrics\n",
    "\n",
    "N_SPLITS = 1\n",
    "RECALL_CONSTRAINT = 0.9\n",
    "CALIBRATION_METHOD = \"isotonic\"\n",
    "\n",
    "seed = 1\n",
    "dataset_names = [\n",
    "\"thorax\",\n",
    "]\n",
    "\n",
    "lookaheads = [2]\n",
    "score_sets = [[-3, -2, -1, 1, 2, 3]]\n",
    "\n",
    "optimization_metrics = (\n",
    "    \"constrained_precision\",\n",
    "    lambda y_true, y_prob: -precision_at_recall_k_score(y_true, y_prob, recall_level=RECALL_CONSTRAINT),\n",
    ")\n",
    "\n",
    "dataset_name = dataset_names[0]\n",
    "\n",
    "dataset = pd.read_csv(f\"../data/{dataset_name}.csv\")\n",
    "\n",
    "X = dataset.iloc[:, 1:].to_numpy()\n",
    "y = dataset.iloc[:, 0].to_numpy()\n",
    "\n",
    "optimization_name, opt_func = optimization_metrics\n",
    "score_set = score_sets[0]\n",
    "print(score_set)\n",
    "stage_clf_params = dict(calibration_method=CALIBRATION_METHOD)\n",
    "psl = ProbabilisticScoringList(score_set=score_set,\n",
    "                                stage_loss=opt_func,\n",
    "                                stage_clf_params=stage_clf_params,\n",
    "                                lookahead=2)\n",
    "psl.fit(X,y)"
   ]
  },
  {
   "cell_type": "code",
   "execution_count": 2,
   "metadata": {},
   "outputs": [
    {
     "data": {
      "text/plain": [
       "array([0.12789116, 0.13762811, 0.21698113, 0.34108527, 0.5875    ,\n",
       "       0.88235294, 1.        , 1.        ])"
      ]
     },
     "execution_count": 2,
     "metadata": {},
     "output_type": "execute_result"
    }
   ],
   "source": [
    "from sklearn.metrics import precision_recall_curve\n",
    "probas_pred = psl.predict_proba(X)[:,1]\n",
    "precision, recall, thresholds = precision_recall_curve(y,probas_pred)\n",
    "precision"
   ]
  },
  {
   "cell_type": "code",
   "execution_count": 3,
   "metadata": {},
   "outputs": [
    {
     "data": {
      "image/png": "[encoded data removed]",
      "text/plain": [
       "<Figure size 700x350 with 1 Axes>"
      ]
     },
     "metadata": {},
     "output_type": "display_data"
    }
   ],
   "source": [
    "import matplotlib.pyplot as plt\n",
    "import seaborn as sns\n",
    "\n",
    "sns.set(font_scale=1.5,rc={'text.usetex' : True})\n",
    "sns.set_style(\"whitegrid\")\n",
    "plt.rc('font', **{'family': 'serif'})\n",
    "\n",
    "fig,ax = plt.subplots()\n",
    "fig.set_size_inches(7, 3.5)\n",
    "\n",
    "ax.step(x=recall,y=precision)\n",
    "ax.axvline(x=0.9, linestyle=\"--\", color=\"black\")\n",
    "ax.set_xlabel(\"Recall\")\n",
    "ax.set_ylabel(\"Precision\")\n",
    "\n",
    "plt.savefig(f\"../fig/thorax_precision_recall_curve_thorax_example.pdf\", bbox_inches='tight')"
   ]
  }
 ],
 "metadata": {
  "kernelspec": {
   "display_name": "Python 3 (ipykernel)",
   "language": "python",
   "name": "python3"
  },
  "language_info": {
   "codemirror_mode": {
    "name": "ipython",
    "version": 3
   },
   "file_extension": ".py",
   "mimetype": "text/x-python",
   "name": "python",
   "nbconvert_exporter": "python",
   "pygments_lexer": "ipython3",
   "version": "3.11.5"
  }
 },
 "nbformat": 4,
 "nbformat_minor": 4
}
